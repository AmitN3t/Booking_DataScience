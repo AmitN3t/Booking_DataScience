{
 "cells": [
  {
   "cell_type": "code",
   "execution_count": null,
   "metadata": {},
   "outputs": [],
   "source": [
    "import os\n",
    "import re\n",
    "import numpy as np\n",
    "import pandas as pd\n",
    "from webdriver_manager.chrome import ChromeDriverManager\n",
    "from selenium import webdriver\n",
    "from selenium.webdriver.chrome.service import Service\n",
    "from selenium.webdriver.chrome.options import Options\n",
    "from selenium.webdriver.common.by import By\n",
    "from selenium.webdriver.support.ui import WebDriverWait\n",
    "from selenium.webdriver.support import expected_conditions as EC\n",
    "\n",
    "import matplotlib.pyplot as plt\n",
    "from sklearn import linear_model\n",
    "from sklearn.model_selection import train_test_split\n",
    "from sklearn.metrics import mean_absolute_error\n",
    "from sklearn.metrics import mean_squared_error\n",
    "\n"
   ]
  },
  {
   "cell_type": "code",
   "execution_count": null,
   "metadata": {},
   "outputs": [],
   "source": [
    "service = Service(ChromeDriverManager().install())\n",
    "options = Options()\n",
    "driver = webdriver.Chrome(service=service, options=options)"
   ]
  },
  {
   "cell_type": "markdown",
   "metadata": {},
   "source": [
    "# Data Scraping\n",
    "This code scarp the Booking.com and get 50,000 records to predict the ratings using other categoies"
   ]
  },
  {
   "cell_type": "code",
   "execution_count": null,
   "metadata": {},
   "outputs": [],
   "source": [
    "if not os.path.exists('data.csv'):\n",
    "    records = []\n",
    "    for page_index in range(1, 2001):\n",
    "        print(page_index)\n",
    "        offset = page_index * 25\n",
    "        url = f'https://www.booking.com/searchresults.html?aid=304142&ss=United+States+of+America&ssne=United+States+of+America&ssne_untouched=United+States+of+America&lang=en-us&sb=1&src_elem=sb&src=searchresults&dest_id=224&dest_type=country&checkin=2022-06-16&checkout=2022-06-17&group_adults=2&no_rooms=1&group_children=0&sb_travel_purpose=leisure&changed_currency=1&selected_currency=USD&top_currency=1&offset={offset}'\n",
    "\n",
    "        driver.get(url)\n",
    "        try:\n",
    "            cards = WebDriverWait(driver, 60).until(EC.presence_of_all_elements_located((By.XPATH, '//div[@data-testid=\"property-card\"]')))\n",
    "            \n",
    "            for card in cards:\n",
    "                '''\n",
    "                title = card.find_element(By.XPATH, './/div[@data-testid=\"title\"]').text\n",
    "                address = card.find_element(By.XPATH, './/span[@data-testid=\"address\"]').text\n",
    "                '''       \n",
    "                review_text = card.find_element(By.XPATH, './/div[@data-testid=\"review-score\"]').text\n",
    "                review_text = review_text.split('\\n')\n",
    "                rating = float(review_text[0])\n",
    "                review = review_text[1]\n",
    "                num_review = int(re.findall(r'\\d+', review_text[2])[0])\n",
    "                \n",
    "                price = card.find_elements(By.XPATH, './/div[@data-testid=\"price-and-discounted-price\"]/span')[-1].text\n",
    "                price = int(re.findall(r'\\d+', price)[0])\n",
    "                \n",
    "                taxies = card.find_element(By.XPATH, './/div[@data-testid=\"taxes-and-charges\"]').text\n",
    "                try:\n",
    "                    taxies = int(re.findall(r'\\d+', taxies)[0])\n",
    "                except:\n",
    "                    taxies = 0\n",
    "                \n",
    "                rating_stars = len(card.find_elements(By.XPATH, './/div[@data-testid=\"rating-stars\"]/span'))\n",
    "\n",
    "                records.append([review, num_review, price, taxies, rating_stars, rating])\n",
    "        except ValueError:\n",
    "            break\n",
    "    driver.quit()\n",
    "    \n",
    "    # Convert scraped data to dataframe and save as csv file\n",
    "    df = pd.DataFrame (records, columns = ['Review', 'Number of Reviews', 'Price', 'Tax', 'Star', 'Rating'])\n",
    "    df.to_csv('data.csv', index = False)  "
   ]
  },
  {
   "cell_type": "markdown",
   "metadata": {},
   "source": [
    "*Load dataset from csv file*"
   ]
  },
  {
   "cell_type": "code",
   "execution_count": 47,
   "metadata": {},
   "outputs": [
    {
     "data": {
      "text/html": [
       "<div>\n",
       "<style scoped>\n",
       "    .dataframe tbody tr th:only-of-type {\n",
       "        vertical-align: middle;\n",
       "    }\n",
       "\n",
       "    .dataframe tbody tr th {\n",
       "        vertical-align: top;\n",
       "    }\n",
       "\n",
       "    .dataframe thead th {\n",
       "        text-align: right;\n",
       "    }\n",
       "</style>\n",
       "<table border=\"1\" class=\"dataframe\">\n",
       "  <thead>\n",
       "    <tr style=\"text-align: right;\">\n",
       "      <th></th>\n",
       "      <th>Review</th>\n",
       "      <th>Number of Reviews</th>\n",
       "      <th>Price</th>\n",
       "      <th>Tax</th>\n",
       "      <th>Star</th>\n",
       "      <th>Rating</th>\n",
       "    </tr>\n",
       "  </thead>\n",
       "  <tbody>\n",
       "    <tr>\n",
       "      <th>0</th>\n",
       "      <td>Excellent</td>\n",
       "      <td>887</td>\n",
       "      <td>134</td>\n",
       "      <td>12</td>\n",
       "      <td>3</td>\n",
       "      <td>8.9</td>\n",
       "    </tr>\n",
       "    <tr>\n",
       "      <th>1</th>\n",
       "      <td>Exceptional</td>\n",
       "      <td>6</td>\n",
       "      <td>180</td>\n",
       "      <td>14</td>\n",
       "      <td>0</td>\n",
       "      <td>9.7</td>\n",
       "    </tr>\n",
       "    <tr>\n",
       "      <th>2</th>\n",
       "      <td>Excellent</td>\n",
       "      <td>476</td>\n",
       "      <td>105</td>\n",
       "      <td>12</td>\n",
       "      <td>0</td>\n",
       "      <td>8.7</td>\n",
       "    </tr>\n",
       "    <tr>\n",
       "      <th>3</th>\n",
       "      <td>Very Good</td>\n",
       "      <td>308</td>\n",
       "      <td>104</td>\n",
       "      <td>14</td>\n",
       "      <td>3</td>\n",
       "      <td>8.2</td>\n",
       "    </tr>\n",
       "    <tr>\n",
       "      <th>4</th>\n",
       "      <td>Very Good</td>\n",
       "      <td>109</td>\n",
       "      <td>130</td>\n",
       "      <td>14</td>\n",
       "      <td>3</td>\n",
       "      <td>8.5</td>\n",
       "    </tr>\n",
       "  </tbody>\n",
       "</table>\n",
       "</div>"
      ],
      "text/plain": [
       "        Review  Number of Reviews  Price  Tax  Star  Rating\n",
       "0    Excellent                887    134   12     3     8.9\n",
       "1  Exceptional                  6    180   14     0     9.7\n",
       "2    Excellent                476    105   12     0     8.7\n",
       "3    Very Good                308    104   14     3     8.2\n",
       "4    Very Good                109    130   14     3     8.5"
      ]
     },
     "execution_count": 47,
     "metadata": {},
     "output_type": "execute_result"
    }
   ],
   "source": [
    "df = pd.read_csv('data.csv')\n",
    "df.head()"
   ]
  },
  {
   "cell_type": "markdown",
   "metadata": {},
   "source": [
    "# Pre-Processing"
   ]
  },
  {
   "cell_type": "markdown",
   "metadata": {},
   "source": [
    "*Drop NAN Values*"
   ]
  },
  {
   "cell_type": "code",
   "execution_count": 48,
   "metadata": {},
   "outputs": [
    {
     "data": {
      "text/html": [
       "<div>\n",
       "<style scoped>\n",
       "    .dataframe tbody tr th:only-of-type {\n",
       "        vertical-align: middle;\n",
       "    }\n",
       "\n",
       "    .dataframe tbody tr th {\n",
       "        vertical-align: top;\n",
       "    }\n",
       "\n",
       "    .dataframe thead th {\n",
       "        text-align: right;\n",
       "    }\n",
       "</style>\n",
       "<table border=\"1\" class=\"dataframe\">\n",
       "  <thead>\n",
       "    <tr style=\"text-align: right;\">\n",
       "      <th></th>\n",
       "      <th>Review</th>\n",
       "      <th>Number of Reviews</th>\n",
       "      <th>Price</th>\n",
       "      <th>Tax</th>\n",
       "      <th>Star</th>\n",
       "      <th>Rating</th>\n",
       "    </tr>\n",
       "  </thead>\n",
       "  <tbody>\n",
       "    <tr>\n",
       "      <th>0</th>\n",
       "      <td>Excellent</td>\n",
       "      <td>887</td>\n",
       "      <td>134</td>\n",
       "      <td>12</td>\n",
       "      <td>3</td>\n",
       "      <td>8.9</td>\n",
       "    </tr>\n",
       "    <tr>\n",
       "      <th>1</th>\n",
       "      <td>Exceptional</td>\n",
       "      <td>6</td>\n",
       "      <td>180</td>\n",
       "      <td>14</td>\n",
       "      <td>0</td>\n",
       "      <td>9.7</td>\n",
       "    </tr>\n",
       "    <tr>\n",
       "      <th>2</th>\n",
       "      <td>Excellent</td>\n",
       "      <td>476</td>\n",
       "      <td>105</td>\n",
       "      <td>12</td>\n",
       "      <td>0</td>\n",
       "      <td>8.7</td>\n",
       "    </tr>\n",
       "    <tr>\n",
       "      <th>3</th>\n",
       "      <td>Very Good</td>\n",
       "      <td>308</td>\n",
       "      <td>104</td>\n",
       "      <td>14</td>\n",
       "      <td>3</td>\n",
       "      <td>8.2</td>\n",
       "    </tr>\n",
       "    <tr>\n",
       "      <th>4</th>\n",
       "      <td>Very Good</td>\n",
       "      <td>109</td>\n",
       "      <td>130</td>\n",
       "      <td>14</td>\n",
       "      <td>3</td>\n",
       "      <td>8.5</td>\n",
       "    </tr>\n",
       "  </tbody>\n",
       "</table>\n",
       "</div>"
      ],
      "text/plain": [
       "        Review  Number of Reviews  Price  Tax  Star  Rating\n",
       "0    Excellent                887    134   12     3     8.9\n",
       "1  Exceptional                  6    180   14     0     9.7\n",
       "2    Excellent                476    105   12     0     8.7\n",
       "3    Very Good                308    104   14     3     8.2\n",
       "4    Very Good                109    130   14     3     8.5"
      ]
     },
     "execution_count": 48,
     "metadata": {},
     "output_type": "execute_result"
    }
   ],
   "source": [
    "df =df.dropna()\n",
    "df.head()"
   ]
  },
  {
   "cell_type": "markdown",
   "metadata": {},
   "source": [
    "*Statistical analysis of dataframe*"
   ]
  },
  {
   "cell_type": "code",
   "execution_count": 49,
   "metadata": {},
   "outputs": [
    {
     "data": {
      "text/html": [
       "<div>\n",
       "<style scoped>\n",
       "    .dataframe tbody tr th:only-of-type {\n",
       "        vertical-align: middle;\n",
       "    }\n",
       "\n",
       "    .dataframe tbody tr th {\n",
       "        vertical-align: top;\n",
       "    }\n",
       "\n",
       "    .dataframe thead th {\n",
       "        text-align: right;\n",
       "    }\n",
       "</style>\n",
       "<table border=\"1\" class=\"dataframe\">\n",
       "  <thead>\n",
       "    <tr style=\"text-align: right;\">\n",
       "      <th></th>\n",
       "      <th>Number of Reviews</th>\n",
       "      <th>Price</th>\n",
       "      <th>Tax</th>\n",
       "      <th>Star</th>\n",
       "      <th>Rating</th>\n",
       "    </tr>\n",
       "  </thead>\n",
       "  <tbody>\n",
       "    <tr>\n",
       "      <th>count</th>\n",
       "      <td>50000.000000</td>\n",
       "      <td>50000.000000</td>\n",
       "      <td>50000.000000</td>\n",
       "      <td>50000.000000</td>\n",
       "      <td>50000.000000</td>\n",
       "    </tr>\n",
       "    <tr>\n",
       "      <th>mean</th>\n",
       "      <td>214.937060</td>\n",
       "      <td>143.464560</td>\n",
       "      <td>18.472620</td>\n",
       "      <td>2.572320</td>\n",
       "      <td>8.147386</td>\n",
       "    </tr>\n",
       "    <tr>\n",
       "      <th>std</th>\n",
       "      <td>161.973667</td>\n",
       "      <td>47.036757</td>\n",
       "      <td>9.224918</td>\n",
       "      <td>0.705223</td>\n",
       "      <td>0.623883</td>\n",
       "    </tr>\n",
       "    <tr>\n",
       "      <th>min</th>\n",
       "      <td>1.000000</td>\n",
       "      <td>1.000000</td>\n",
       "      <td>0.000000</td>\n",
       "      <td>0.000000</td>\n",
       "      <td>4.900000</td>\n",
       "    </tr>\n",
       "    <tr>\n",
       "      <th>25%</th>\n",
       "      <td>108.000000</td>\n",
       "      <td>109.000000</td>\n",
       "      <td>13.000000</td>\n",
       "      <td>2.000000</td>\n",
       "      <td>7.700000</td>\n",
       "    </tr>\n",
       "    <tr>\n",
       "      <th>50%</th>\n",
       "      <td>181.000000</td>\n",
       "      <td>139.000000</td>\n",
       "      <td>17.000000</td>\n",
       "      <td>3.000000</td>\n",
       "      <td>8.200000</td>\n",
       "    </tr>\n",
       "    <tr>\n",
       "      <th>75%</th>\n",
       "      <td>260.000000</td>\n",
       "      <td>169.000000</td>\n",
       "      <td>22.000000</td>\n",
       "      <td>3.000000</td>\n",
       "      <td>8.600000</td>\n",
       "    </tr>\n",
       "    <tr>\n",
       "      <th>max</th>\n",
       "      <td>960.000000</td>\n",
       "      <td>855.000000</td>\n",
       "      <td>718.000000</td>\n",
       "      <td>5.000000</td>\n",
       "      <td>10.000000</td>\n",
       "    </tr>\n",
       "  </tbody>\n",
       "</table>\n",
       "</div>"
      ],
      "text/plain": [
       "       Number of Reviews         Price           Tax          Star  \\\n",
       "count       50000.000000  50000.000000  50000.000000  50000.000000   \n",
       "mean          214.937060    143.464560     18.472620      2.572320   \n",
       "std           161.973667     47.036757      9.224918      0.705223   \n",
       "min             1.000000      1.000000      0.000000      0.000000   \n",
       "25%           108.000000    109.000000     13.000000      2.000000   \n",
       "50%           181.000000    139.000000     17.000000      3.000000   \n",
       "75%           260.000000    169.000000     22.000000      3.000000   \n",
       "max           960.000000    855.000000    718.000000      5.000000   \n",
       "\n",
       "             Rating  \n",
       "count  50000.000000  \n",
       "mean       8.147386  \n",
       "std        0.623883  \n",
       "min        4.900000  \n",
       "25%        7.700000  \n",
       "50%        8.200000  \n",
       "75%        8.600000  \n",
       "max       10.000000  "
      ]
     },
     "execution_count": 49,
     "metadata": {},
     "output_type": "execute_result"
    }
   ],
   "source": [
    "df.describe()"
   ]
  },
  {
   "cell_type": "markdown",
   "metadata": {},
   "source": [
    "# EDA"
   ]
  },
  {
   "cell_type": "markdown",
   "metadata": {},
   "source": [
    "*Bar-plot of number of reviews*"
   ]
  },
  {
   "cell_type": "code",
   "execution_count": 50,
   "metadata": {},
   "outputs": [
    {
     "data": {
      "image/png": "[encoded data removed]",
      "text/plain": [
       "<Figure size 432x288 with 1 Axes>"
      ]
     },
     "metadata": {
      "needs_background": "light"
     },
     "output_type": "display_data"
    }
   ],
   "source": [
    "review_names = ['Review score', 'Good', 'Very Good', 'Excellent', 'Wonderful', 'Exceptional']\n",
    "review_count = df['Review'].value_counts()\n",
    "review_count = review_count[review_names]\n",
    "\n",
    "# plot labels indicating the number of leagues\n",
    "for i, value in enumerate(review_count):\n",
    "     plt.text(value, i, str(value), horizontalalignment='right', verticalalignment='center', weight='bold', color='white', fontsize=14)\n",
    "\n",
    "# plot the results using an horizontal bar plot\n",
    "review_count.plot(kind='barh')\n",
    "\n",
    "# ticks\n",
    "plt.xticks(fontsize=14)\n",
    "plt.yticks(fontsize=14)\n",
    "\n",
    "# labels and title\n",
    "plt.xlabel('Count of reviews', fontsize=14)\n",
    "plt.ylabel('Reviews', fontsize=14)\n",
    "plt.title('Number of Reviews', fontsize=20);"
   ]
  },
  {
   "cell_type": "markdown",
   "metadata": {},
   "source": [
    "*Bar-plot of number of stars*"
   ]
  },
  {
   "cell_type": "code",
   "execution_count": 51,
   "metadata": {},
   "outputs": [
    {
     "data": {
      "image/png": "[encoded data removed]",
      "text/plain": [
       "<Figure size 432x288 with 1 Axes>"
      ]
     },
     "metadata": {
      "needs_background": "light"
     },
     "output_type": "display_data"
    }
   ],
   "source": [
    "star_names = [0, 1, 2, 3, 4, 5]\n",
    "star_count = df['Star'].value_counts()\n",
    "star_count = star_count[star_names]\n",
    "\n",
    "# plot labels indicating the number of leagues\n",
    "for i, value in enumerate(star_count):\n",
    "     plt.text(value, i, str(value), horizontalalignment='right', verticalalignment='center', weight='bold', color='white', fontsize=14)\n",
    "\n",
    "# plot the results using an horizontal bar plot\n",
    "star_count.plot(kind='barh')\n",
    "\n",
    "# ticks\n",
    "plt.xticks(fontsize=14)\n",
    "plt.yticks(fontsize=14)\n",
    "\n",
    "# labels and title\n",
    "plt.xlabel('Count of Star', fontsize=14)\n",
    "plt.ylabel('Stars', fontsize=14)\n",
    "plt.title('Number of Stars', fontsize=20);"
   ]
  },
  {
   "cell_type": "markdown",
   "metadata": {},
   "source": [
    "*Convert string reviews to numerical values*"
   ]
  },
  {
   "cell_type": "code",
   "execution_count": 52,
   "metadata": {},
   "outputs": [
    {
     "data": {
      "text/html": [
       "<div>\n",
       "<style scoped>\n",
       "    .dataframe tbody tr th:only-of-type {\n",
       "        vertical-align: middle;\n",
       "    }\n",
       "\n",
       "    .dataframe tbody tr th {\n",
       "        vertical-align: top;\n",
       "    }\n",
       "\n",
       "    .dataframe thead th {\n",
       "        text-align: right;\n",
       "    }\n",
       "</style>\n",
       "<table border=\"1\" class=\"dataframe\">\n",
       "  <thead>\n",
       "    <tr style=\"text-align: right;\">\n",
       "      <th></th>\n",
       "      <th>Review</th>\n",
       "      <th>Number of Reviews</th>\n",
       "      <th>Price</th>\n",
       "      <th>Tax</th>\n",
       "      <th>Star</th>\n",
       "      <th>Rating</th>\n",
       "    </tr>\n",
       "  </thead>\n",
       "  <tbody>\n",
       "    <tr>\n",
       "      <th>0</th>\n",
       "      <td>4</td>\n",
       "      <td>887</td>\n",
       "      <td>134</td>\n",
       "      <td>12</td>\n",
       "      <td>3</td>\n",
       "      <td>8.9</td>\n",
       "    </tr>\n",
       "    <tr>\n",
       "      <th>1</th>\n",
       "      <td>6</td>\n",
       "      <td>6</td>\n",
       "      <td>180</td>\n",
       "      <td>14</td>\n",
       "      <td>0</td>\n",
       "      <td>9.7</td>\n",
       "    </tr>\n",
       "    <tr>\n",
       "      <th>2</th>\n",
       "      <td>4</td>\n",
       "      <td>476</td>\n",
       "      <td>105</td>\n",
       "      <td>12</td>\n",
       "      <td>0</td>\n",
       "      <td>8.7</td>\n",
       "    </tr>\n",
       "    <tr>\n",
       "      <th>3</th>\n",
       "      <td>3</td>\n",
       "      <td>308</td>\n",
       "      <td>104</td>\n",
       "      <td>14</td>\n",
       "      <td>3</td>\n",
       "      <td>8.2</td>\n",
       "    </tr>\n",
       "    <tr>\n",
       "      <th>4</th>\n",
       "      <td>3</td>\n",
       "      <td>109</td>\n",
       "      <td>130</td>\n",
       "      <td>14</td>\n",
       "      <td>3</td>\n",
       "      <td>8.5</td>\n",
       "    </tr>\n",
       "  </tbody>\n",
       "</table>\n",
       "</div>"
      ],
      "text/plain": [
       "   Review  Number of Reviews  Price  Tax  Star  Rating\n",
       "0       4                887    134   12     3     8.9\n",
       "1       6                  6    180   14     0     9.7\n",
       "2       4                476    105   12     0     8.7\n",
       "3       3                308    104   14     3     8.2\n",
       "4       3                109    130   14     3     8.5"
      ]
     },
     "execution_count": 52,
     "metadata": {},
     "output_type": "execute_result"
    }
   ],
   "source": [
    "mymap = {'Review score':1, 'Good':2, 'Very Good':3, 'Excellent':4, 'Wonderful':5, 'Exceptional':6}\n",
    "df = df.applymap(lambda s: mymap.get(s) if s in mymap else s)\n",
    "df.head()"
   ]
  },
  {
   "cell_type": "markdown",
   "metadata": {},
   "source": [
    "*Statistical analysis*"
   ]
  },
  {
   "cell_type": "code",
   "execution_count": 53,
   "metadata": {},
   "outputs": [
    {
     "data": {
      "text/html": [
       "<div>\n",
       "<style scoped>\n",
       "    .dataframe tbody tr th:only-of-type {\n",
       "        vertical-align: middle;\n",
       "    }\n",
       "\n",
       "    .dataframe tbody tr th {\n",
       "        vertical-align: top;\n",
       "    }\n",
       "\n",
       "    .dataframe thead th {\n",
       "        text-align: right;\n",
       "    }\n",
       "</style>\n",
       "<table border=\"1\" class=\"dataframe\">\n",
       "  <thead>\n",
       "    <tr style=\"text-align: right;\">\n",
       "      <th></th>\n",
       "      <th>Review</th>\n",
       "      <th>Number of Reviews</th>\n",
       "      <th>Price</th>\n",
       "      <th>Tax</th>\n",
       "      <th>Star</th>\n",
       "      <th>Rating</th>\n",
       "    </tr>\n",
       "  </thead>\n",
       "  <tbody>\n",
       "    <tr>\n",
       "      <th>count</th>\n",
       "      <td>50000.000000</td>\n",
       "      <td>50000.000000</td>\n",
       "      <td>50000.000000</td>\n",
       "      <td>50000.000000</td>\n",
       "      <td>50000.000000</td>\n",
       "      <td>50000.000000</td>\n",
       "    </tr>\n",
       "    <tr>\n",
       "      <th>mean</th>\n",
       "      <td>2.986100</td>\n",
       "      <td>214.937060</td>\n",
       "      <td>143.464560</td>\n",
       "      <td>18.472620</td>\n",
       "      <td>2.572320</td>\n",
       "      <td>8.147386</td>\n",
       "    </tr>\n",
       "    <tr>\n",
       "      <th>std</th>\n",
       "      <td>1.011537</td>\n",
       "      <td>161.973667</td>\n",
       "      <td>47.036757</td>\n",
       "      <td>9.224918</td>\n",
       "      <td>0.705223</td>\n",
       "      <td>0.623883</td>\n",
       "    </tr>\n",
       "    <tr>\n",
       "      <th>min</th>\n",
       "      <td>1.000000</td>\n",
       "      <td>1.000000</td>\n",
       "      <td>1.000000</td>\n",
       "      <td>0.000000</td>\n",
       "      <td>0.000000</td>\n",
       "      <td>4.900000</td>\n",
       "    </tr>\n",
       "    <tr>\n",
       "      <th>25%</th>\n",
       "      <td>2.000000</td>\n",
       "      <td>108.000000</td>\n",
       "      <td>109.000000</td>\n",
       "      <td>13.000000</td>\n",
       "      <td>2.000000</td>\n",
       "      <td>7.700000</td>\n",
       "    </tr>\n",
       "    <tr>\n",
       "      <th>50%</th>\n",
       "      <td>3.000000</td>\n",
       "      <td>181.000000</td>\n",
       "      <td>139.000000</td>\n",
       "      <td>17.000000</td>\n",
       "      <td>3.000000</td>\n",
       "      <td>8.200000</td>\n",
       "    </tr>\n",
       "    <tr>\n",
       "      <th>75%</th>\n",
       "      <td>4.000000</td>\n",
       "      <td>260.000000</td>\n",
       "      <td>169.000000</td>\n",
       "      <td>22.000000</td>\n",
       "      <td>3.000000</td>\n",
       "      <td>8.600000</td>\n",
       "    </tr>\n",
       "    <tr>\n",
       "      <th>max</th>\n",
       "      <td>6.000000</td>\n",
       "      <td>960.000000</td>\n",
       "      <td>855.000000</td>\n",
       "      <td>718.000000</td>\n",
       "      <td>5.000000</td>\n",
       "      <td>10.000000</td>\n",
       "    </tr>\n",
       "  </tbody>\n",
       "</table>\n",
       "</div>"
      ],
      "text/plain": [
       "             Review  Number of Reviews         Price           Tax  \\\n",
       "count  50000.000000       50000.000000  50000.000000  50000.000000   \n",
       "mean       2.986100         214.937060    143.464560     18.472620   \n",
       "std        1.011537         161.973667     47.036757      9.224918   \n",
       "min        1.000000           1.000000      1.000000      0.000000   \n",
       "25%        2.000000         108.000000    109.000000     13.000000   \n",
       "50%        3.000000         181.000000    139.000000     17.000000   \n",
       "75%        4.000000         260.000000    169.000000     22.000000   \n",
       "max        6.000000         960.000000    855.000000    718.000000   \n",
       "\n",
       "               Star        Rating  \n",
       "count  50000.000000  50000.000000  \n",
       "mean       2.572320      8.147386  \n",
       "std        0.705223      0.623883  \n",
       "min        0.000000      4.900000  \n",
       "25%        2.000000      7.700000  \n",
       "50%        3.000000      8.200000  \n",
       "75%        3.000000      8.600000  \n",
       "max        5.000000     10.000000  "
      ]
     },
     "execution_count": 53,
     "metadata": {},
     "output_type": "execute_result"
    }
   ],
   "source": [
    "df.describe()"
   ]
  },
  {
   "cell_type": "markdown",
   "metadata": {},
   "source": [
    "*Correlation analysis*"
   ]
  },
  {
   "cell_type": "code",
   "execution_count": 54,
   "metadata": {},
   "outputs": [
    {
     "data": {
      "text/html": [
       "<div>\n",
       "<style scoped>\n",
       "    .dataframe tbody tr th:only-of-type {\n",
       "        vertical-align: middle;\n",
       "    }\n",
       "\n",
       "    .dataframe tbody tr th {\n",
       "        vertical-align: top;\n",
       "    }\n",
       "\n",
       "    .dataframe thead th {\n",
       "        text-align: right;\n",
       "    }\n",
       "</style>\n",
       "<table border=\"1\" class=\"dataframe\">\n",
       "  <thead>\n",
       "    <tr style=\"text-align: right;\">\n",
       "      <th></th>\n",
       "      <th>Review</th>\n",
       "      <th>Number of Reviews</th>\n",
       "      <th>Price</th>\n",
       "      <th>Tax</th>\n",
       "      <th>Star</th>\n",
       "      <th>Rating</th>\n",
       "    </tr>\n",
       "  </thead>\n",
       "  <tbody>\n",
       "    <tr>\n",
       "      <th>Review</th>\n",
       "      <td>1.000000</td>\n",
       "      <td>-0.062132</td>\n",
       "      <td>0.271392</td>\n",
       "      <td>0.208119</td>\n",
       "      <td>0.077291</td>\n",
       "      <td>0.934610</td>\n",
       "    </tr>\n",
       "    <tr>\n",
       "      <th>Number of Reviews</th>\n",
       "      <td>-0.062132</td>\n",
       "      <td>1.000000</td>\n",
       "      <td>0.122223</td>\n",
       "      <td>0.049933</td>\n",
       "      <td>0.075991</td>\n",
       "      <td>-0.034195</td>\n",
       "    </tr>\n",
       "    <tr>\n",
       "      <th>Price</th>\n",
       "      <td>0.271392</td>\n",
       "      <td>0.122223</td>\n",
       "      <td>1.000000</td>\n",
       "      <td>0.647589</td>\n",
       "      <td>0.245654</td>\n",
       "      <td>0.332610</td>\n",
       "    </tr>\n",
       "    <tr>\n",
       "      <th>Tax</th>\n",
       "      <td>0.208119</td>\n",
       "      <td>0.049933</td>\n",
       "      <td>0.647589</td>\n",
       "      <td>1.000000</td>\n",
       "      <td>0.215567</td>\n",
       "      <td>0.256035</td>\n",
       "    </tr>\n",
       "    <tr>\n",
       "      <th>Star</th>\n",
       "      <td>0.077291</td>\n",
       "      <td>0.075991</td>\n",
       "      <td>0.245654</td>\n",
       "      <td>0.215567</td>\n",
       "      <td>1.000000</td>\n",
       "      <td>0.111017</td>\n",
       "    </tr>\n",
       "    <tr>\n",
       "      <th>Rating</th>\n",
       "      <td>0.934610</td>\n",
       "      <td>-0.034195</td>\n",
       "      <td>0.332610</td>\n",
       "      <td>0.256035</td>\n",
       "      <td>0.111017</td>\n",
       "      <td>1.000000</td>\n",
       "    </tr>\n",
       "  </tbody>\n",
       "</table>\n",
       "</div>"
      ],
      "text/plain": [
       "                     Review  Number of Reviews     Price       Tax      Star  \\\n",
       "Review             1.000000          -0.062132  0.271392  0.208119  0.077291   \n",
       "Number of Reviews -0.062132           1.000000  0.122223  0.049933  0.075991   \n",
       "Price              0.271392           0.122223  1.000000  0.647589  0.245654   \n",
       "Tax                0.208119           0.049933  0.647589  1.000000  0.215567   \n",
       "Star               0.077291           0.075991  0.245654  0.215567  1.000000   \n",
       "Rating             0.934610          -0.034195  0.332610  0.256035  0.111017   \n",
       "\n",
       "                     Rating  \n",
       "Review             0.934610  \n",
       "Number of Reviews -0.034195  \n",
       "Price              0.332610  \n",
       "Tax                0.256035  \n",
       "Star               0.111017  \n",
       "Rating             1.000000  "
      ]
     },
     "execution_count": 54,
     "metadata": {},
     "output_type": "execute_result"
    }
   ],
   "source": [
    "df.corr(method ='pearson')"
   ]
  },
  {
   "cell_type": "markdown",
   "metadata": {},
   "source": [
    "# Predict Rating using Linear Regression"
   ]
  },
  {
   "cell_type": "markdown",
   "metadata": {},
   "source": [
    "*Split datset to train and test*"
   ]
  },
  {
   "cell_type": "code",
   "execution_count": 55,
   "metadata": {},
   "outputs": [],
   "source": [
    "X = df[['Review', 'Number of Reviews', 'Price', 'Tax', 'Star']]\n",
    "y = df['Rating']\n",
    "X_train, X_test, y_train, y_test = train_test_split(X, y, test_size=0.33, random_state=42)"
   ]
  },
  {
   "cell_type": "markdown",
   "metadata": {},
   "source": [
    "*Build Linear Regression model using train datasets*"
   ]
  },
  {
   "cell_type": "code",
   "execution_count": 56,
   "metadata": {},
   "outputs": [
    {
     "data": {
      "text/plain": [
       "LinearRegression()"
      ]
     },
     "execution_count": 56,
     "metadata": {},
     "output_type": "execute_result"
    }
   ],
   "source": [
    "linear_reg_rank = linear_model.LinearRegression()\n",
    "linear_reg_rank.fit(X_train, y_train)"
   ]
  },
  {
   "cell_type": "markdown",
   "metadata": {},
   "source": [
    "*Predict rating using linear regression model for test dataset*"
   ]
  },
  {
   "cell_type": "code",
   "execution_count": 57,
   "metadata": {},
   "outputs": [
    {
     "name": "stdout",
     "output_type": "stream",
     "text": [
      "MAE: 0.17651280381492057, RMSE: 0.21476114865334756\n"
     ]
    }
   ],
   "source": [
    "yhat = linear_reg_rank.predict(X_test)\n",
    "MAE = mean_absolute_error(y_test, yhat)\n",
    "RMSE = np.sqrt(mean_squared_error(y_test, yhat))\n",
    "print(\"MAE: {}, RMSE: {}\" .format(MAE, RMSE))"
   ]
  },
  {
   "cell_type": "code",
   "execution_count": 58,
   "metadata": {},
   "outputs": [
    {
     "data": {
      "text/html": [
       "<div>\n",
       "<style scoped>\n",
       "    .dataframe tbody tr th:only-of-type {\n",
       "        vertical-align: middle;\n",
       "    }\n",
       "\n",
       "    .dataframe tbody tr th {\n",
       "        vertical-align: top;\n",
       "    }\n",
       "\n",
       "    .dataframe thead th {\n",
       "        text-align: right;\n",
       "    }\n",
       "</style>\n",
       "<table border=\"1\" class=\"dataframe\">\n",
       "  <thead>\n",
       "    <tr style=\"text-align: right;\">\n",
       "      <th></th>\n",
       "      <th>Review</th>\n",
       "      <th>Number of Reviews</th>\n",
       "      <th>Price</th>\n",
       "      <th>Tax</th>\n",
       "      <th>Star</th>\n",
       "      <th>Rating</th>\n",
       "      <th>Predict</th>\n",
       "      <th>Diff(%)</th>\n",
       "    </tr>\n",
       "  </thead>\n",
       "  <tbody>\n",
       "    <tr>\n",
       "      <th>33553</th>\n",
       "      <td>4</td>\n",
       "      <td>257</td>\n",
       "      <td>169</td>\n",
       "      <td>15</td>\n",
       "      <td>3</td>\n",
       "      <td>8.6</td>\n",
       "      <td>8.745537</td>\n",
       "      <td>1.692290</td>\n",
       "    </tr>\n",
       "    <tr>\n",
       "      <th>9427</th>\n",
       "      <td>2</td>\n",
       "      <td>143</td>\n",
       "      <td>204</td>\n",
       "      <td>25</td>\n",
       "      <td>3</td>\n",
       "      <td>7.9</td>\n",
       "      <td>7.658901</td>\n",
       "      <td>3.051888</td>\n",
       "    </tr>\n",
       "    <tr>\n",
       "      <th>199</th>\n",
       "      <td>4</td>\n",
       "      <td>228</td>\n",
       "      <td>255</td>\n",
       "      <td>31</td>\n",
       "      <td>3</td>\n",
       "      <td>8.9</td>\n",
       "      <td>8.838640</td>\n",
       "      <td>0.689438</td>\n",
       "    </tr>\n",
       "    <tr>\n",
       "      <th>12447</th>\n",
       "      <td>3</td>\n",
       "      <td>305</td>\n",
       "      <td>167</td>\n",
       "      <td>18</td>\n",
       "      <td>3</td>\n",
       "      <td>8.0</td>\n",
       "      <td>8.187239</td>\n",
       "      <td>2.340491</td>\n",
       "    </tr>\n",
       "    <tr>\n",
       "      <th>39489</th>\n",
       "      <td>3</td>\n",
       "      <td>133</td>\n",
       "      <td>150</td>\n",
       "      <td>22</td>\n",
       "      <td>3</td>\n",
       "      <td>8.1</td>\n",
       "      <td>8.169219</td>\n",
       "      <td>0.854555</td>\n",
       "    </tr>\n",
       "    <tr>\n",
       "      <th>...</th>\n",
       "      <td>...</td>\n",
       "      <td>...</td>\n",
       "      <td>...</td>\n",
       "      <td>...</td>\n",
       "      <td>...</td>\n",
       "      <td>...</td>\n",
       "      <td>...</td>\n",
       "      <td>...</td>\n",
       "    </tr>\n",
       "    <tr>\n",
       "      <th>27615</th>\n",
       "      <td>3</td>\n",
       "      <td>219</td>\n",
       "      <td>242</td>\n",
       "      <td>28</td>\n",
       "      <td>4</td>\n",
       "      <td>8.0</td>\n",
       "      <td>8.277684</td>\n",
       "      <td>3.471054</td>\n",
       "    </tr>\n",
       "    <tr>\n",
       "      <th>21964</th>\n",
       "      <td>3</td>\n",
       "      <td>242</td>\n",
       "      <td>180</td>\n",
       "      <td>25</td>\n",
       "      <td>3</td>\n",
       "      <td>8.5</td>\n",
       "      <td>8.203956</td>\n",
       "      <td>3.482874</td>\n",
       "    </tr>\n",
       "    <tr>\n",
       "      <th>33321</th>\n",
       "      <td>2</td>\n",
       "      <td>241</td>\n",
       "      <td>139</td>\n",
       "      <td>15</td>\n",
       "      <td>2</td>\n",
       "      <td>7.6</td>\n",
       "      <td>7.577841</td>\n",
       "      <td>0.291560</td>\n",
       "    </tr>\n",
       "    <tr>\n",
       "      <th>40225</th>\n",
       "      <td>2</td>\n",
       "      <td>114</td>\n",
       "      <td>66</td>\n",
       "      <td>10</td>\n",
       "      <td>2</td>\n",
       "      <td>7.0</td>\n",
       "      <td>7.501941</td>\n",
       "      <td>7.170592</td>\n",
       "    </tr>\n",
       "    <tr>\n",
       "      <th>28203</th>\n",
       "      <td>4</td>\n",
       "      <td>220</td>\n",
       "      <td>135</td>\n",
       "      <td>13</td>\n",
       "      <td>2</td>\n",
       "      <td>8.6</td>\n",
       "      <td>8.695147</td>\n",
       "      <td>1.106362</td>\n",
       "    </tr>\n",
       "  </tbody>\n",
       "</table>\n",
       "<p>16500 rows × 8 columns</p>\n",
       "</div>"
      ],
      "text/plain": [
       "       Review  Number of Reviews  Price  Tax  Star  Rating   Predict   Diff(%)\n",
       "33553       4                257    169   15     3     8.6  8.745537  1.692290\n",
       "9427        2                143    204   25     3     7.9  7.658901  3.051888\n",
       "199         4                228    255   31     3     8.9  8.838640  0.689438\n",
       "12447       3                305    167   18     3     8.0  8.187239  2.340491\n",
       "39489       3                133    150   22     3     8.1  8.169219  0.854555\n",
       "...       ...                ...    ...  ...   ...     ...       ...       ...\n",
       "27615       3                219    242   28     4     8.0  8.277684  3.471054\n",
       "21964       3                242    180   25     3     8.5  8.203956  3.482874\n",
       "33321       2                241    139   15     2     7.6  7.577841  0.291560\n",
       "40225       2                114     66   10     2     7.0  7.501941  7.170592\n",
       "28203       4                220    135   13     2     8.6  8.695147  1.106362\n",
       "\n",
       "[16500 rows x 8 columns]"
      ]
     },
     "execution_count": 58,
     "metadata": {},
     "output_type": "execute_result"
    }
   ],
   "source": [
    "df_test = X_test\n",
    "df_test['Rating'] = y_test\n",
    "df_test['Predict'] = yhat\n",
    "df_test['Diff(%)'] = abs(df_test['Rating'] - df_test['Predict']) / df_test['Rating'] * 100\n",
    "df_test"
   ]
  },
  {
   "cell_type": "markdown",
   "metadata": {},
   "source": [
    "*Corss-Validation*"
   ]
  },
  {
   "cell_type": "code",
   "execution_count": 60,
   "metadata": {},
   "outputs": [
    {
     "name": "stdout",
     "output_type": "stream",
     "text": [
      "MAE: 0.17777835352405166, RMSE: 0.21593646957725113\n",
      "MAE: 0.17855699421348442, RMSE: 0.21596057025732632\n",
      "MAE: 0.17816544028590423, RMSE: 0.21647272854374314\n",
      "MAE: 0.17836951063103296, RMSE: 0.21663265549615632\n",
      "MAE: 0.17660655465592345, RMSE: 0.21397762609776075\n"
     ]
    }
   ],
   "source": [
    "cross_MAE = []\n",
    "cross_RMSE = []\n",
    "for i in range(5):\n",
    "    # split data to train and test\n",
    "    X_train, X_test, y_train, y_test = train_test_split(X, y, test_size=0.33)\n",
    "    \n",
    "    # fit linear regression model\n",
    "    linear_reg_rank.fit(X_train, y_train)\n",
    "    \n",
    "    # predict rating\n",
    "    yhat = linear_reg_rank.predict(X_test)\n",
    "    \n",
    "    # compute MAE and RMSE\n",
    "    MAE = mean_absolute_error(y_test, yhat)\n",
    "    cross_MAE.append(MAE)\n",
    "    \n",
    "    RMSE = np.sqrt(mean_squared_error(y_test, yhat))\n",
    "    cross_RMSE.append(RMSE)\n",
    "    print(\"MAE: {}, RMSE: {}\" .format(MAE, RMSE))"
   ]
  },
  {
   "cell_type": "markdown",
   "metadata": {},
   "source": [
    "*MAE of Cross Validation*"
   ]
  },
  {
   "cell_type": "code",
   "execution_count": 64,
   "metadata": {},
   "outputs": [
    {
     "data": {
      "image/png": "[encoded data removed]",
      "text/plain": [
       "<Figure size 432x288 with 1 Axes>"
      ]
     },
     "metadata": {
      "needs_background": "light"
     },
     "output_type": "display_data"
    }
   ],
   "source": [
    "plt.bar(list(range(5)), cross_MAE)\n",
    "plt.xlabel('Validation Number')\n",
    "plt.ylabel('MAE', fontsize=14)\n",
    "plt.title('MAE of Cross Validation');\n",
    "plt.show()"
   ]
  },
  {
   "cell_type": "markdown",
   "metadata": {},
   "source": [
    "*RMSE of Cross Validation*"
   ]
  },
  {
   "cell_type": "code",
   "execution_count": 65,
   "metadata": {},
   "outputs": [
    {
     "data": {
      "image/png": "[encoded data removed]",
      "text/plain": [
       "<Figure size 432x288 with 1 Axes>"
      ]
     },
     "metadata": {
      "needs_background": "light"
     },
     "output_type": "display_data"
    }
   ],
   "source": [
    "plt.bar(list(range(5)), cross_RMSE)\n",
    "plt.xlabel('Validation Number')\n",
    "plt.ylabel('RMSE', fontsize=14)\n",
    "plt.title('RMSE of Cross Validation');\n",
    "plt.show()"
   ]
  }
 ],
 "metadata": {
  "colab": {
   "collapsed_sections": [],
   "name": "Q1.ipynb",
   "provenance": []
  },
  "kernelspec": {
   "display_name": "Python 3",
   "language": "python",
   "name": "python3"
  },
  "language_info": {
   "codemirror_mode": {
    "name": "ipython",
    "version": 3
   },
   "file_extension": ".py",
   "mimetype": "text/x-python",
   "name": "python",
   "nbconvert_exporter": "python",
   "pygments_lexer": "ipython3",
   "version": "3.8.5"
  },
  "vscode": {
   "interpreter": {
    "hash": "ccf87fb819cfde7e8d6a0443e9aa503909b6273dd0bad30f2b39dacf8c82dccd"
   }
  }
 },
 "nbformat": 4,
 "nbformat_minor": 1
}
